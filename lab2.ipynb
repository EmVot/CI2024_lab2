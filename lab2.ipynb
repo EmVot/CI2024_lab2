{
 "cells": [
  {
   "cell_type": "markdown",
   "metadata": {
    "vscode": {
     "languageId": "plaintext"
    }
   },
   "source": [
    "Copyright **`(c)`** 2024 Giovanni Squillero `<giovanni.squillero@polito.it>`  \n",
    "[`https://github.com/squillero/computational-intelligence`](https://github.com/squillero/computational-intelligence)  \n",
    "Free under certain conditions — see the [`license`](https://github.com/squillero/computational-intelligence/blob/master/LICENSE.md) for details.  "
   ]
  },
  {
   "cell_type": "code",
   "execution_count": 1,
   "metadata": {},
   "outputs": [],
   "source": [
    "import logging\n",
    "from itertools import combinations\n",
    "import pandas as pd\n",
    "import numpy as np\n",
    "import geopy.distance\n",
    "import networkx as nx\n",
    "import functools\n",
    "\n",
    "from icecream import ic\n",
    "\n",
    "logging.basicConfig(level=logging.DEBUG)"
   ]
  },
  {
   "cell_type": "markdown",
   "metadata": {},
   "source": [
    "# Lab2 - TSP\n",
    "\n",
    "https://www.wolframcloud.com/obj/giovanni.squillero/Published/Lab2-tsp.nb"
   ]
  },
  {
   "cell_type": "markdown",
   "metadata": {},
   "source": [
    "### Collection of cities, divided by country"
   ]
  },
  {
   "cell_type": "code",
   "execution_count": 2,
   "metadata": {},
   "outputs": [],
   "source": [
    "countries=[\n",
    "    \n",
    "\n",
    "    {\n",
    "        'name': 'Vanuatu',\n",
    "        'cities': pd.read_csv('cities/vanuatu.csv', header=None, names=['name', 'lat', 'lon']),\n",
    "        'dist_matrix':[]\n",
    "    },\n",
    "\n",
    "    {\n",
    "        'name':'Italy',\n",
    "        'cities':pd.read_csv('cities/italy.csv', header=None, names=['name', 'lat', 'lon']),\n",
    "        'dist_matrix':[]\n",
    "    },\n",
    "\n",
    "    {\n",
    "        'name':'Russia',\n",
    "        'cities': pd.read_csv('cities/russia.csv', header=None, names=['name', 'lat', 'lon']),\n",
    "        'dist_matrix':[]\n",
    "    },\n",
    "\n",
    "    \n",
    "    {\n",
    "        'name':'USA',\n",
    "        'cities':pd.read_csv('cities/us.csv', header=None, names=['name', 'lat', 'lon']),\n",
    "        'dist_matrix':[]\n",
    "    },\n",
    "    \n",
    "    {\n",
    "        'name':'China',\n",
    "        'cities': pd.read_csv('cities/china.csv', header=None, names=['name', 'lat', 'lon']),\n",
    "        'dist_matrix':[]\n",
    "    },\n",
    "]\n",
    "\n",
    "\n"
   ]
  },
  {
   "cell_type": "markdown",
   "metadata": {},
   "source": [
    "### Distance matrix calculation"
   ]
  },
  {
   "cell_type": "code",
   "execution_count": 3,
   "metadata": {},
   "outputs": [],
   "source": [
    "for country in countries:\n",
    "    cities=country['cities']\n",
    "    dist_matrix = np.zeros((len(cities), len(cities)))\n",
    "    for c1, c2 in combinations(cities.itertuples(), 2):\n",
    "        dist_matrix[c1.Index, c2.Index] = dist_matrix[c2.Index, c1.Index] = geopy.distance.geodesic(\n",
    "            (c1.lat, c1.lon), (c2.lat, c2.lon)\n",
    "        ).km\n",
    "    country['dist_matrix']=dist_matrix"
   ]
  },
  {
   "cell_type": "markdown",
   "metadata": {},
   "source": [
    "## TSP solutions\n",
    "Countries indexes:\n",
    "+ 0: Vanuatu\n",
    "+ 1: Italy\n",
    "+ 2: Russia\n",
    "+ 3: USA\n",
    "+ 4: China"
   ]
  },
  {
   "cell_type": "markdown",
   "metadata": {},
   "source": [
    "### Greedy algorithm\n",
    "Implementing a fast greedy algorithm"
   ]
  },
  {
   "cell_type": "markdown",
   "metadata": {},
   "source": [
    "#### Utility functions"
   ]
  },
  {
   "cell_type": "code",
   "execution_count": 4,
   "metadata": {},
   "outputs": [],
   "source": [
    "def tsp_validation(cities,sol):\n",
    "\n",
    "    '''\n",
    "    Checks the validity of the given solution.\n",
    "    The tsp problem is solved if:\n",
    "    1) The solution covers all the cities\n",
    "    2) The solution is a cycle\n",
    "    '''\n",
    "\n",
    "    #tsp mut be a cycle\n",
    "    assert sol[0]==sol[-1]\n",
    "\n",
    "    #the tsp must cover all the cities\n",
    "    assert set(sol)==set(range(len(cities)))\n",
    "\n",
    "def cost(sol,dist_matrix):\n",
    "    '''\n",
    "    Return the cost of the given tsp solution. given the distance matrix\n",
    "    '''\n",
    "\n",
    "    cost = 0\n",
    "    for c1, c2 in zip(sol, sol[1:]):\n",
    "        cost += dist_matrix[c1, c2]\n",
    "    return cost"
   ]
  },
  {
   "cell_type": "markdown",
   "metadata": {},
   "source": [
    "#### Greedy TSP definition"
   ]
  },
  {
   "cell_type": "code",
   "execution_count": 30,
   "metadata": {},
   "outputs": [],
   "source": [
    "def tsp_greedy(cities,distance_matrix):\n",
    "\n",
    "    visited = np.full(len(cities),False)\n",
    "    start = 0\n",
    "    current_city = start\n",
    "    dist=np.copy(distance_matrix)\n",
    "    visited[start]=True\n",
    "    voyage=[]\n",
    "    voyage.append(start)\n",
    "    journey_diary=''\n",
    "    steps = 0\n",
    "\n",
    "    while not np.all(visited):\n",
    "\n",
    "        dist[: ,current_city]=np.inf\n",
    "        distance_vector = dist[current_city]\n",
    "        next_stop=np.argmin(distance_vector)\n",
    "        voyage.append(next_stop)\n",
    "        \n",
    "        journey_diary += f'Start: {cities.at[current_city,'name']} --> Arrival: {cities.at[next_stop,'name']} || Kilometers travelled: {distance_vector[next_stop]:.2f}\\n'\n",
    "        steps+=1\n",
    "        current_city=next_stop\n",
    "        visited[current_city]=True\n",
    "    \n",
    "    voyage.append(0)\n",
    "    journey_diary += f'Finally going home!\\t Start: {cities.at[voyage[-2],'name']} --> Arrival: {cities.at[0,'name']} || Kilometers travelled: {distance_matrix[voyage[-2],0]:.2f}\\n'\n",
    "    journey_diary += f'Total kilometers travelled: {cost(voyage,distance_matrix):.2f}\\n'\n",
    "    journey_diary += f'Total numer of \"steps\": {steps}'\n",
    "\n",
    "    return (voyage,journey_diary)\n",
    "\n"
   ]
  },
  {
   "cell_type": "markdown",
   "metadata": {},
   "source": [
    "#### Solving the TSP\n",
    "The solutions are stored in a txt file"
   ]
  },
  {
   "cell_type": "code",
   "execution_count": 31,
   "metadata": {},
   "outputs": [
    {
     "name": "stdout",
     "output_type": "stream",
     "text": [
      "Now doing: Vanuatu\n",
      "(8, 8)\n",
      "Now doing: Italy\n",
      "(46, 46)\n",
      "Now doing: Russia\n",
      "(167, 167)\n",
      "Now doing: USA\n",
      "(326, 326)\n",
      "Now doing: China\n",
      "(726, 726)\n"
     ]
    }
   ],
   "source": [
    "for country in countries:\n",
    "    print(f'Now doing: {country['name']}')\n",
    "    \n",
    "    (greedy_voyage,greedy_diary)=tsp_greedy(country['cities'],country['dist_matrix'])\n",
    "    with open(f'{country['name']} greedy voyage journal.txt','w',encoding='UTF-8') as f:\n",
    "        f.write(greedy_diary)\n"
   ]
  },
  {
   "cell_type": "markdown",
   "metadata": {},
   "source": [
    "### Evolutionary algorithms"
   ]
  }
 ],
 "metadata": {
  "kernelspec": {
   "display_name": "CI_Codes",
   "language": "python",
   "name": "python3"
  },
  "language_info": {
   "codemirror_mode": {
    "name": "ipython",
    "version": 3
   },
   "file_extension": ".py",
   "mimetype": "text/x-python",
   "name": "python",
   "nbconvert_exporter": "python",
   "pygments_lexer": "ipython3",
   "version": "3.12.4"
  }
 },
 "nbformat": 4,
 "nbformat_minor": 2
}
