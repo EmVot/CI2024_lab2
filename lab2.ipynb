{
 "cells": [
  {
   "cell_type": "markdown",
   "metadata": {
    "vscode": {
     "languageId": "plaintext"
    }
   },
   "source": [
    "Copyright **`(c)`** 2024 Giovanni Squillero `<giovanni.squillero@polito.it>`  \n",
    "[`https://github.com/squillero/computational-intelligence`](https://github.com/squillero/computational-intelligence)  \n",
    "Free under certain conditions — see the [`license`](https://github.com/squillero/computational-intelligence/blob/master/LICENSE.md) for details.  "
   ]
  },
  {
   "cell_type": "code",
   "execution_count": 2,
   "metadata": {},
   "outputs": [],
   "source": [
    "import logging\n",
    "from itertools import combinations, accumulate\n",
    "import pandas as pd\n",
    "import numpy as np\n",
    "import geopy.distance\n",
    "import networkx as nx\n",
    "import functools\n",
    "from icecream import ic\n",
    "from dataclasses import dataclass\n",
    "import random\n",
    "import itertools\n",
    "from math import ceil\n",
    "import matplotlib.pyplot as plot\n",
    "\n",
    "logging.basicConfig(level=logging.DEBUG)"
   ]
  },
  {
   "cell_type": "markdown",
   "metadata": {},
   "source": [
    "# Lab2 - TSP\n",
    "\n",
    "https://www.wolframcloud.com/obj/giovanni.squillero/Published/Lab2-tsp.nb"
   ]
  },
  {
   "cell_type": "markdown",
   "metadata": {},
   "source": [
    "### Collection of cities, divided by country"
   ]
  },
  {
   "cell_type": "code",
   "execution_count": 3,
   "metadata": {},
   "outputs": [],
   "source": [
    "countries=[\n",
    "    \n",
    "\n",
    "    {\n",
    "        'name': 'Vanuatu',\n",
    "        'cities': pd.read_csv('cities/vanuatu.csv', header=None, names=['name', 'lat', 'lon']),\n",
    "        'dist_matrix':[]\n",
    "    },\n",
    "\n",
    "    {\n",
    "        'name':'Italy',\n",
    "        'cities':pd.read_csv('cities/italy.csv', header=None, names=['name', 'lat', 'lon']),\n",
    "        'dist_matrix':[]\n",
    "    },\n",
    "\n",
    "    {\n",
    "        'name':'Russia',\n",
    "        'cities': pd.read_csv('cities/russia.csv', header=None, names=['name', 'lat', 'lon']),\n",
    "        'dist_matrix':[]\n",
    "    },\n",
    "\n",
    "    \n",
    "    {\n",
    "        'name':'USA',\n",
    "        'cities':pd.read_csv('cities/us.csv', header=None, names=['name', 'lat', 'lon']),\n",
    "        'dist_matrix':[]\n",
    "    },\n",
    "    \n",
    "    {\n",
    "        'name':'China',\n",
    "        'cities': pd.read_csv('cities/china.csv', header=None, names=['name', 'lat', 'lon']),\n",
    "        'dist_matrix':[]\n",
    "    },\n",
    "]\n",
    "\n",
    "\n"
   ]
  },
  {
   "cell_type": "markdown",
   "metadata": {},
   "source": [
    "### Distance matrix calculation"
   ]
  },
  {
   "cell_type": "code",
   "execution_count": 4,
   "metadata": {},
   "outputs": [],
   "source": [
    "for country in countries:\n",
    "    cities=country['cities']\n",
    "    dist_matrix = np.zeros((len(cities), len(cities)))\n",
    "    for c1, c2 in combinations(cities.itertuples(), 2):\n",
    "        dist_matrix[c1.Index, c2.Index] = dist_matrix[c2.Index, c1.Index] = geopy.distance.geodesic(\n",
    "            (c1.lat, c1.lon), (c2.lat, c2.lon)\n",
    "        ).km\n",
    "    country['dist_matrix']=dist_matrix"
   ]
  },
  {
   "cell_type": "markdown",
   "metadata": {},
   "source": [
    "## TSP solutions\n",
    "Countries indexes:\n",
    "+ 0: Vanuatu\n",
    "+ 1: Italy\n",
    "+ 2: Russia\n",
    "+ 3: USA\n",
    "+ 4: China"
   ]
  },
  {
   "cell_type": "markdown",
   "metadata": {},
   "source": [
    "#### Utility functions"
   ]
  },
  {
   "cell_type": "code",
   "execution_count": 5,
   "metadata": {},
   "outputs": [],
   "source": [
    "def tsp_validation(cities,sol):\n",
    "\n",
    "    '''\n",
    "    Checks the validity of the given solution.\n",
    "    The tsp problem is solved if:\n",
    "    1) The solution covers all the cities\n",
    "    2) The solution is a cycle\n",
    "    '''\n",
    "\n",
    "    #tsp mut be a cycle\n",
    "    assert sol[0]==sol[-1]\n",
    "\n",
    "    #the tsp must cover all the cities\n",
    "    assert set(sol)==set(range(len(cities)))\n",
    "\n",
    "def cost(sol,dist_matrix):\n",
    "    '''\n",
    "    Return the cost of the given tsp solution. given the distance matrix\n",
    "    '''\n",
    "\n",
    "    cost = 0\n",
    "    for c1, c2 in zip(sol, sol[1:]):\n",
    "        cost += dist_matrix[c1, c2]\n",
    "    return cost"
   ]
  },
  {
   "cell_type": "markdown",
   "metadata": {},
   "source": [
    "### Proposed soltion 1\n",
    "Implementing a fast greedy algorithm"
   ]
  },
  {
   "cell_type": "markdown",
   "metadata": {},
   "source": [
    "#### Greedy TSP definition"
   ]
  },
  {
   "cell_type": "code",
   "execution_count": 6,
   "metadata": {},
   "outputs": [],
   "source": [
    "def tsp_greedy(cities,distance_matrix):\n",
    "\n",
    "    visited = np.full(len(cities),False)\n",
    "    start = 0\n",
    "    current_city = start\n",
    "    dist=np.copy(distance_matrix)\n",
    "    visited[start]=True\n",
    "    voyage=[]\n",
    "    voyage.append(start)\n",
    "    journey_diary=''\n",
    "    steps = 0\n",
    "\n",
    "    while not np.all(visited):\n",
    "\n",
    "        dist[: ,current_city]=np.inf\n",
    "        distance_vector = dist[current_city]\n",
    "        next_stop=np.argmin(distance_vector)\n",
    "        voyage.append(next_stop)\n",
    "        \n",
    "        journey_diary += f'Start: {cities.at[current_city,'name']} --> Arrival: {cities.at[next_stop,'name']} || Kilometers travelled: {distance_vector[next_stop]:.2f}\\n'\n",
    "        steps+=1\n",
    "        current_city=next_stop\n",
    "        visited[current_city]=True\n",
    "    \n",
    "    voyage.append(0)\n",
    "    journey_diary += f'Finally going home!\\t Start: {cities.at[voyage[-2],'name']} --> Arrival: {cities.at[0,'name']} || Kilometers travelled: {distance_matrix[voyage[-2],0]:.2f}\\n'\n",
    "    journey_diary += f'Total kilometers travelled: {cost(voyage,distance_matrix):.2f}\\n'\n",
    "    journey_diary += f'Total numer of \"steps\": {steps}'\n",
    "\n",
    "    return (voyage,journey_diary)\n",
    "\n"
   ]
  },
  {
   "cell_type": "markdown",
   "metadata": {},
   "source": [
    "#### Solving the TSP\n",
    "The solutions are stored in a txt file"
   ]
  },
  {
   "cell_type": "code",
   "execution_count": 6,
   "metadata": {},
   "outputs": [
    {
     "name": "stdout",
     "output_type": "stream",
     "text": [
      "Now doing: Vanuatu\n",
      "Now doing: Italy\n",
      "Now doing: Russia\n",
      "Now doing: USA\n",
      "Now doing: China\n"
     ]
    }
   ],
   "source": [
    "for country in countries:\n",
    "    print(f'Now doing: {country['name']}')\n",
    "    \n",
    "    (greedy_voyage,greedy_diary)=tsp_greedy(country['cities'],country['dist_matrix'])\n",
    "    with open(f'{country['name']} greedy voyage journal.txt','w',encoding='UTF-8') as f:\n",
    "        f.write(greedy_diary)\n"
   ]
  },
  {
   "cell_type": "markdown",
   "metadata": {},
   "source": [
    "### Proposed solution 2"
   ]
  },
  {
   "cell_type": "code",
   "execution_count": 69,
   "metadata": {},
   "outputs": [],
   "source": [
    "COUNTRY = 2\n",
    "INDIVIDUALS = 512\n",
    "GENERATIONS = 50000\n",
    "TAU = 32\n",
    "COSTS = countries[COUNTRY]['dist_matrix']"
   ]
  },
  {
   "cell_type": "markdown",
   "metadata": {},
   "source": [
    "#### Genetic algorithms at genotype-level: definition of individual, fitness, mutations and crossover strategies"
   ]
  },
  {
   "cell_type": "code",
   "execution_count": 24,
   "metadata": {},
   "outputs": [],
   "source": [
    "@dataclass\n",
    "class individual:\n",
    "    genome: np.ndarray\n",
    "    \n",
    "    def fitness(self):\n",
    "        return -float(cost(self.genome,COSTS))\n",
    "\n",
    "def mutation(subject: np.ndarray):\n",
    "\n",
    "    '''\n",
    "    Performs the insert and inversion mutations with a given probability\n",
    "    '''\n",
    "\n",
    "    def inversion(subject:np.ndarray):\n",
    "        '''\n",
    "        Performs inversion mutation for the given individual, and returns the inidividual whith the mutated genome\n",
    "        '''\n",
    "        if len(subject) > 2:\n",
    "            start_cut = np.random.randint(1, len(subject) - 1)  # Start and end points are fixed\n",
    "        else:\n",
    "            # Handle the case where the genome length is too short for this operation\n",
    "            raise ValueError('Genome length must be greater than 2 to select a valid cut point.')\n",
    "        \n",
    "        end_cut=np.random.randint(1,len(subject)-1)\n",
    "        \n",
    "        while end_cut == start_cut:\n",
    "            end_cut=np.random.randint(1,len(subject)-1)\n",
    "                \n",
    "        \n",
    "        if(start_cut>end_cut):\n",
    "            start_cut,end_cut=end_cut,start_cut\n",
    "\n",
    "        mutated_genome=subject[0:start_cut]\n",
    "        mutated_genome=np.append(mutated_genome,subject[start_cut:end_cut][::-1])\n",
    "        mutated_genome=np.append(mutated_genome,subject[end_cut:])\n",
    "\n",
    "        subject=mutated_genome\n",
    "        return subject\n",
    "    \n",
    "    def insert(subject):\n",
    "        '''\n",
    "        Performs the \"insert\" mutation for the given individual\n",
    "        '''\n",
    "\n",
    "        first_allele=np.random.randint(1,len(subject)-1)\n",
    "        \n",
    "        second_allele=None\n",
    "        while second_allele==first_allele or second_allele is None:\n",
    "            second_allele=np.random.randint(1,len(subject)-1)\n",
    "        \n",
    "        if first_allele>second_allele:\n",
    "            first_allele,second_allele=second_allele,first_allele   #if the second allele position is before the first one swap the two elements\n",
    "        \n",
    "        mutated_genome=subject[0:first_allele+1]\n",
    "        mutated_genome=np.append(mutated_genome,subject[second_allele])\n",
    "        mutated_genome=np.append(mutated_genome,subject[first_allele+1:second_allele])\n",
    "        mutated_genome=np.append(mutated_genome,subject[second_allele+1:])\n",
    "\n",
    "        subject=mutated_genome\n",
    "        return subject\n",
    "    \n",
    "\n",
    "    mutation_probability = 1/len(subject)\n",
    "\n",
    "    if random.random() < mutation_probability:\n",
    "        subject=insert(subject)\n",
    "\n",
    "    \n",
    "    if random.random() < mutation_probability:\n",
    "        subject=inversion(subject)\n",
    "\n",
    "    return individual(subject)\n",
    "\n",
    "def IOX(P1: np.ndarray, P2: np.ndarray):\n",
    "    '''\n",
    "    Implements the Inver Over Crossover strategy\n",
    "    From P1 we will take the sequence genes\n",
    "    From P2 we will take the the end edge\n",
    "    '''\n",
    "\n",
    "    def cyclic_extraction(v : np.ndarray, start:int, end: int):\n",
    "        cyclic_slice=v[start+1:]\n",
    "        return np.append(cyclic_slice,v[0:end])\n",
    "\n",
    "    #if random.random()<0.5:     #parent selection randomization\n",
    "    #    P1,P2=P2,P1\n",
    "    \n",
    "    P1_start_edge=np.random.randint(0,len(P1)-1)\n",
    "    P2_start_edge=np.argwhere(P2==P1[P1_start_edge])[0][0]\n",
    "    P2_end_edge = (P2_start_edge + 1)%len(P2)\n",
    "    P1_end_edge = np.argwhere(P1==P2[P2_end_edge])[0][0]\n",
    "    \n",
    "    \n",
    "    if P1_start_edge < P1_end_edge:\n",
    "        child=P1[0:P1_start_edge]\n",
    "        child=np.append(child,P2[P2_start_edge])\n",
    "        child=np.append(child,P2[P2_end_edge])\n",
    "        child=np.append(child,P1[P1_start_edge+1:P1_end_edge][::-1])\n",
    "        child=np.append(child,P1[P1_end_edge+1:])\n",
    "\n",
    "    else:\n",
    "        child=P1[P1_end_edge+1:P1_start_edge]\n",
    "        child=np.append(child,P2[P2_start_edge])\n",
    "        child=np.append(child,P2[P2_end_edge])\n",
    "        child=np.append(child,cyclic_extraction(P1,P1_start_edge,P1_end_edge)[::-1])\n",
    "    \n",
    "    if len(child)!=len(P1):\n",
    "        print(f'P1: {P1}')\n",
    "        print(f'P2: {P2}')\n",
    "        print(f'Child: {child}')\n",
    "        print(f'P1 start: {P1_start_edge}')\n",
    "        print(f'P1 end: {P1_end_edge}')\n",
    "        print(f'P2 start: {P2_start_edge}')\n",
    "        print(f'P2 end: {P2_end_edge}')\n",
    "\n",
    "    return child\n",
    "\n",
    "def PMX(P1: individual, P2: individual):\n",
    "\n",
    "    P1_g = P1.genome\n",
    "    P2_g = P2.genome\n",
    "\n",
    "    L1=np.random.randint(1,len(P1_g)-1)\n",
    "    L2=np.random.randint(1,len(P1_g)-1)\n",
    "\n",
    "    if L1 < L2:\n",
    "        L1,L2=L2,L1\n",
    "\n",
    "    \n",
    "    mapping=np.vstack((P1_g[L1:L2+1],P2_g[L1:L2+1]))\n",
    "\n",
    "    offspring=np.array([])\n",
    "\n",
    "    print(mapping)\n",
    "\n",
    "    for idx,gene in enumerate(P2):\n",
    "        \n",
    "        if idx >= L1 and idx <=L2:\n",
    "            offspring=np.append(offspring,P1_g[idx])\n",
    "            continue\n",
    "        \n",
    "        if gene in mapping[0]:\n",
    "            gene_index = np.argwhere(mapping[0]==gene)[0][0]\n",
    "            proposed_gene= mapping[1][gene_index]\n",
    "            while proposed_gene in mapping[0]:\n",
    "                gene_index = np.argwhere(mapping[0]==proposed_gene)[0][0]\n",
    "                proposed_gene = mapping[1][gene_index]\n",
    "                \n",
    "            offspring=np.append(offspring,mapping[1][gene_index])\n",
    "        else:\n",
    "            offspring=np.append(offspring, gene)\n",
    "\n",
    "    return offspring\n",
    "\n",
    "def multipunctual_mutation(subject: np.ndarray):\n",
    "    \n",
    "    mutation_nr = ceil(len(subject)/10)\n",
    "\n",
    "    for _ in range(mutation_nr):\n",
    "        allele1=np.random.randint(1,len(subject)-1)\n",
    "        allele2=np.random.randint(1,len(subject)-1)\n",
    "\n",
    "        while allele2==allele1:\n",
    "            allele2=np.random.randint(1,len(subject)-1)\n",
    "            \n",
    "        subject[allele1],subject[allele2]=subject[allele2],subject[allele1]\n",
    "    \n",
    "    return individual(np.array(subject))"
   ]
  },
  {
   "cell_type": "markdown",
   "metadata": {},
   "source": [
    "#### Genetic algorithms at population level: population definition, parent selection and offspring selection"
   ]
  },
  {
   "cell_type": "code",
   "execution_count": 44,
   "metadata": {},
   "outputs": [],
   "source": [
    "@dataclass\n",
    "class population:\n",
    "    parents: np.ndarray\n",
    "    offspring: np.ndarray\n",
    "\n",
    "\n",
    "def tournament_selection(candidates: population, tau: int):\n",
    "    '''\n",
    "    Implements the tournament selection as parent selection for the EA\n",
    "    '''\n",
    "    parents = candidates.parents\n",
    "    selected_parents = np.array([])\n",
    "\n",
    "    while len(parents) > 0:\n",
    "        match_partecipants=[]\n",
    "        while len(match_partecipants) < tau and len(parents) > 0:\n",
    "            chosen_idx = np.random.randint(0,len(parents))\n",
    "            match_partecipants.append(parents[chosen_idx])\n",
    "            parents = np.delete(parents,chosen_idx)\n",
    "        \n",
    "        selected_parents = np.append(selected_parents,sorted(match_partecipants,key= lambda ind:ind.fitness())[-1])\n",
    "        candidates.parents=selected_parents\n",
    "    return\n",
    "\n",
    "def create_offspring(pop:population):\n",
    "\n",
    "    def create_pairs(parents:np.ndarray):\n",
    "        \n",
    "        pairs = []\n",
    "\n",
    "        while len(parents)>0:\n",
    "            p1 = np.random.randint(0,len(parents))\n",
    "            parent_1 = parents[p1]\n",
    "            parents=np.delete(parents,p1)\n",
    "            p2 = np.random.randint(0,len(parents))\n",
    "            pairs.append((parent_1,parents[p2]))\n",
    "            parents=np.delete(parents,p2)\n",
    "\n",
    "        return np.array(pairs)\n",
    "\n",
    "    offspring = []\n",
    "    parents_pairs = create_pairs(np.copy(pop.parents))\n",
    "\n",
    "\n",
    "    while(len(pop.parents)+len(offspring))<INDIVIDUALS:\n",
    "        for pair in parents_pairs:\n",
    "            mutated_genome=IOX(pair[0].genome[1:-1],pair[1].genome[1:-1])\n",
    "            mutated_genome=np.insert(mutated_genome,0,0)\n",
    "            mutated_genome=np.append(mutated_genome,0)\n",
    "            offspring.append(mutated_genome)\n",
    "        \n",
    "    no=[]\n",
    "    for child in offspring:\n",
    "        no.append(mutation(child))\n",
    "\n",
    "\n",
    "    new_population=population(pop.parents,np.array(no))\n",
    "    return new_population\n",
    "\n",
    "def create_population(pop:population, init=False, greedy_solution=None):\n",
    "    '''\n",
    "    Creates the base popuation, derived by a preceding population and an offspring, or by a greedy starting solution if there is none\n",
    "    If the init parameter is set the function requires an initial greedy solution from which it can create the initial population\n",
    "    '''\n",
    "\n",
    "    new_population=[]\n",
    "\n",
    "    if init:\n",
    "\n",
    "        if greedy_solution is None:\n",
    "            raise ValueError('Initial population requires a greedy solution to start from!')\n",
    "        for _ in range(INDIVIDUALS):\n",
    "            new_ind=multipunctual_mutation(np.copy(greedy_solution))\n",
    "            new_population.append(new_ind)\n",
    "        \n",
    "        \n",
    "        new_pop=population(np.array(new_population),np.array([]))\n",
    "        \n",
    "    else:\n",
    "        new_pop_this_way_works=np.append(pop.parents,pop.offspring)\n",
    "        new_pop=population(new_pop_this_way_works,np.array([]))\n",
    "\n",
    "    return new_pop\n",
    "        "
   ]
  },
  {
   "cell_type": "markdown",
   "metadata": {},
   "source": [
    "#### Evolutionary Algorithm"
   ]
  },
  {
   "cell_type": "code",
   "execution_count": 61,
   "metadata": {},
   "outputs": [],
   "source": [
    "def EA(country):\n",
    "\n",
    "    def evolutionary_cycle(population:population):\n",
    "        population=create_offspring(population)\n",
    "        new_population = create_population(population)\n",
    "        tournament_selection(new_population,TAU)\n",
    "        return new_population\n",
    "    \n",
    "    initial_greedy=tsp_greedy(country['cities'],country['dist_matrix'])[0]\n",
    "    ic(individual(initial_greedy).fitness())\n",
    "    \n",
    "    pop = population(np.array([]),np.array([]))\n",
    "    pop = create_population(pop,init=True,greedy_solution=initial_greedy)\n",
    "\n",
    "    plot.figure(figsize= (14, 8))\n",
    "    history = []\n",
    "\n",
    "    for _ in range(GENERATIONS):\n",
    "        pop=evolutionary_cycle(pop)\n",
    "        best_ind = sorted(pop.parents, key= lambda ind:ind.fitness())[-1]\n",
    "        history.append(best_ind.fitness())\n",
    "    \n",
    "    \n",
    "    ic(np.array(history).max())\n",
    "    plot.plot(\n",
    "    range(len(history)),\n",
    "    list(accumulate(history, max)),\n",
    "    color =\"red\",\n",
    "    )\n",
    "\n",
    "    _ = plot.scatter(range(len(history)), history, marker = \".\")\n",
    "\n",
    "\n"
   ]
  },
  {
   "cell_type": "markdown",
   "metadata": {},
   "source": [
    "#### Solving the TSP"
   ]
  },
  {
   "cell_type": "code",
   "execution_count": 70,
   "metadata": {},
   "outputs": [
    {
     "name": "stderr",
     "output_type": "stream",
     "text": [
      "ic| individual(initial_greedy).fitness(): -42334.16465744784\n",
      "ic| np.array(history).max(): np.float64(-37026.32380561279)\n"
     ]
    },
    {
     "data": {
      "image/png": "[encoded data removed]",
      "text/plain": [
       "<Figure size 1400x800 with 1 Axes>"
      ]
     },
     "metadata": {},
     "output_type": "display_data"
    }
   ],
   "source": [
    "country=countries[COUNTRY]\n",
    "EA(country)"
   ]
  },
  {
   "cell_type": "code",
   "execution_count": 71,
   "metadata": {},
   "outputs": [],
   "source": [
    "COUNTRY = 3\n",
    "INDIVIDUALS = 1024\n",
    "GENERATIONS = 100000\n",
    "TAU = 32\n",
    "COSTS = countries[COUNTRY]['dist_matrix']"
   ]
  },
  {
   "cell_type": "code",
   "execution_count": 72,
   "metadata": {},
   "outputs": [
    {
     "name": "stderr",
     "output_type": "stream",
     "text": [
      "ic| individual(initial_greedy).fitness(): -48050.02586446137\n",
      "ic| np.array(history).max(): np.float64(-42282.44278895262)\n"
     ]
    },
    {
     "data": {
      "image/png": "[encoded data removed]",
      "text/plain": [
       "<Figure size 1400x800 with 1 Axes>"
      ]
     },
     "metadata": {},
     "output_type": "display_data"
    }
   ],
   "source": [
    "country=countries[COUNTRY]\n",
    "EA(country)"
   ]
  },
  {
   "cell_type": "code",
   "execution_count": 73,
   "metadata": {},
   "outputs": [],
   "source": [
    "COUNTRY = 4\n",
    "INDIVIDUALS = 1024\n",
    "GENERATIONS = 100000\n",
    "TAU = 32\n",
    "COSTS = countries[COUNTRY]['dist_matrix']"
   ]
  },
  {
   "cell_type": "code",
   "execution_count": 74,
   "metadata": {},
   "outputs": [
    {
     "name": "stderr",
     "output_type": "stream",
     "text": [
      "ic| individual(initial_greedy).fitness(): -63962.9184294552\n",
      "ic| np.array(history).max(): np.float64(-67936.97765362408)\n"
     ]
    },
    {
     "data": {
      "image/png": "[encoded data removed]",
      "text/plain": [
       "<Figure size 1400x800 with 1 Axes>"
      ]
     },
     "metadata": {},
     "output_type": "display_data"
    }
   ],
   "source": [
    "country=countries[COUNTRY]\n",
    "EA(country)"
   ]
  }
 ],
 "metadata": {
  "kernelspec": {
   "display_name": "CI_Codes",
   "language": "python",
   "name": "python3"
  },
  "language_info": {
   "codemirror_mode": {
    "name": "ipython",
    "version": 3
   },
   "file_extension": ".py",
   "mimetype": "text/x-python",
   "name": "python",
   "nbconvert_exporter": "python",
   "pygments_lexer": "ipython3",
   "version": "3.12.4"
  }
 },
 "nbformat": 4,
 "nbformat_minor": 2
}
